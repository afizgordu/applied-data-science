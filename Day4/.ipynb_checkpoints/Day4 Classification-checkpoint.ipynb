{
 "cells": [
  {
   "cell_type": "markdown",
   "id": "b2fa30fd-084d-4a6b-9491-2e549ac27d23",
   "metadata": {},
   "source": [
    "# Classification "
   ]
  },
  {
   "cell_type": "markdown",
   "id": "72309de3-5048-491e-8424-b8e25ebbacf2",
   "metadata": {},
   "source": [
    "Sınıflandırma: Cevabı evet/hayır olan sorular için Classification modellerini kullanıyoruz. \n",
    "Metriklerimiz Confusion(Karmaşıklık) Matrix Accuracy, F1 Score, Precision ve Recall"
   ]
  },
  {
   "cell_type": "code",
   "execution_count": null,
   "id": "0dc28f0b-0197-4433-86f2-da16cd225d7a",
   "metadata": {},
   "outputs": [],
   "source": [
    "import pandas as pd\n",
    "pd.set_option(\"display.max_columns\", 100)\n",
    "\n",
    "import matplotlib.pyplot as plt\n",
    "import seaborn as sns\n",
    "import plotly.express as px \n",
    "import numpy as np\n",
    "\n",
    "from scipy.stats import ttest_ind\n",
    "from sklearn.linear_model import LinearRegression, Ridge, Lasso, ElasticNet\n",
    "from sklearn.model_selection import train_test_split\n",
    "from sklearn.metrics import mean_squared_error, r2_score"
   ]
  }
 ],
 "metadata": {
  "kernelspec": {
   "display_name": "Python 3 (ipykernel)",
   "language": "python",
   "name": "python3"
  },
  "language_info": {
   "codemirror_mode": {
    "name": "ipython",
    "version": 3
   },
   "file_extension": ".py",
   "mimetype": "text/x-python",
   "name": "python",
   "nbconvert_exporter": "python",
   "pygments_lexer": "ipython3",
   "version": "3.12.4"
  }
 },
 "nbformat": 4,
 "nbformat_minor": 5
}
