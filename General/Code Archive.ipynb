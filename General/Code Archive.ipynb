{
 "cells": [
  {
   "cell_type": "markdown",
   "metadata": {},
   "source": [
    "# CODE ARCHIVE"
   ]
  },
  {
   "cell_type": "markdown",
   "metadata": {},
   "source": [
    "I will take notes for short codes, functions etc."
   ]
  },
  {
   "cell_type": "markdown",
   "metadata": {},
   "source": [
    "### Algo Test Function"
   ]
  },
  {
   "cell_type": "code",
   "execution_count": 1,
   "metadata": {},
   "outputs": [],
   "source": [
    "def algo_test(x,y):\n",
    "        #Bütün modelleri tanımlıyorum\n",
    "        L=LinearRegression()\n",
    "        R=Ridge()\n",
    "        Lass=Lasso()\n",
    "        E=ElasticNet()\n",
    "        sgd=SGDRegressor()\n",
    "        ETR=ExtraTreeRegressor()\n",
    "        GBR=GradientBoostingRegressor()\n",
    "        kn=KNeighborsRegressor()\n",
    "        rkn=RadiusNeighborsRegressor(radius=1.0)\n",
    "        ada=AdaBoostRegressor()\n",
    "        dt=DecisionTreeRegressor()\n",
    "        xgb=XGBRegressor()\n",
    "        svr=SVR()\n",
    "        mlp_regressor = MLPRegressor()\n",
    "\n",
    "       \n",
    "        \n",
    "        algos=[L,R,Lass,E,sgd,ETR,GBR,ada,kn,dt,xgb,svr,mlp_regressor]\n",
    "        algo_names=['Linear','Ridge','Lasso','ElasticNet','SGD','Extra Tree','Gradient Boosting',\n",
    "                    'KNeighborsRegressor','AdaBoost','Decision Tree','XGBRegressor','SVR','mlp_regressor']\n",
    "        \n",
    "        x_train, x_test, y_train, y_test=train_test_split(x,y,test_size=.20,random_state=42)\n",
    "        \n",
    "        r_squared= []\n",
    "        rmse= []\n",
    "        mae= []\n",
    "        \n",
    "        #Hata ve doğruluk oranlarını bir tablo haline getirmek için bir dataframe oluşturuyorum\n",
    "        result=pd.DataFrame(columns=['R_Squared','RMSE','MAE'],index=algo_names)\n",
    "        \n",
    "        \n",
    "        for algo in algos:\n",
    "            p=algo.fit(x_train,y_train).predict(x_test)\n",
    "            r_squared.append(r2_score(y_test,p))\n",
    "            rmse.append(mean_squared_error(y_test,p)**.5)\n",
    "            mae.append(mean_absolute_error(y_test,p))\n",
    "        \n",
    "            \n",
    "\n",
    "        #result adlı tabloya doğruluk ve hata oranlarımı yerleştiriyorum\n",
    "        result.R_Squared=r_squared\n",
    "        result.RMSE=rmse\n",
    "        result.MAE=mae\n",
    "        \n",
    "       #oluşturduğum result tablosunu doğruluk oranına (r2_score) göre sıralayıp dönüyor\n",
    "        rtable=result.sort_values('R_Squared',ascending=False)\n",
    "        return rtable"
   ]
  },
  {
   "cell_type": "code",
   "execution_count": 4,
   "metadata": {},
   "outputs": [],
   "source": [
    "algo_test(x,y)"
   ]
  },
  {
   "cell_type": "markdown",
   "metadata": {},
   "source": [
    "### Ignore Warnings - Uyarıları Engelleme"
   ]
  },
  {
   "cell_type": "code",
   "execution_count": 5,
   "metadata": {},
   "outputs": [],
   "source": [
    "import warnings\n",
    "warnings.filterwarnings(\"ignore\")"
   ]
  },
  {
   "cell_type": "markdown",
   "metadata": {},
   "source": [
    "### Drop Column - Kolon Silmek"
   ]
  },
  {
   "cell_type": "code",
   "execution_count": 9,
   "metadata": {},
   "outputs": [],
   "source": [
    "df = df.drop(['column_name: 0'], axis=1)"
   ]
  },
  {
   "cell_type": "code",
   "execution_count": null,
   "metadata": {},
   "outputs": [],
   "source": []
  }
 ],
 "metadata": {
  "kernelspec": {
   "display_name": "base",
   "language": "python",
   "name": "python3"
  },
  "language_info": {
   "codemirror_mode": {
    "name": "ipython",
    "version": 3
   },
   "file_extension": ".py",
   "mimetype": "text/x-python",
   "name": "python",
   "nbconvert_exporter": "python",
   "pygments_lexer": "ipython3",
   "version": "3.12.4"
  }
 },
 "nbformat": 4,
 "nbformat_minor": 2
}
