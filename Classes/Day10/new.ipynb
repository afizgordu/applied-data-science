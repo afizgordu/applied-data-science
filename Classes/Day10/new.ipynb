{
 "cells": [
  {
   "cell_type": "code",
   "execution_count": 1,
   "metadata": {},
   "outputs": [
    {
     "name": "stdout",
     "output_type": "stream",
     "text": [
      "Serving HTTP on :: port 8000 (http://[::]:8000/) ...\n",
      "::1 - - [28/Jul/2024 17:53:38] \"GET / HTTP/1.1\" 200 -\n",
      "::1 - - [28/Jul/2024 17:55:21] \"GET / HTTP/1.1\" 200 -\n",
      "::1 - - [28/Jul/2024 17:55:41] \"GET / HTTP/1.1\" 200 -\n",
      "::1 - - [28/Jul/2024 17:55:42] code 404, message File not found\n",
      "::1 - - [28/Jul/2024 17:55:42] \"GET /favicon.ico HTTP/1.1\" 404 -\n",
      "^C\n",
      "\n",
      "Keyboard interrupt received, exiting.\n"
     ]
    }
   ],
   "source": [
    "!python -m http.server 8000"
   ]
  },
  {
   "cell_type": "code",
   "execution_count": null,
   "metadata": {},
   "outputs": [],
   "source": []
  }
 ],
 "metadata": {
  "kernelspec": {
   "display_name": "base",
   "language": "python",
   "name": "python3"
  },
  "language_info": {
   "codemirror_mode": {
    "name": "ipython",
    "version": 3
   },
   "file_extension": ".py",
   "mimetype": "text/x-python",
   "name": "python",
   "nbconvert_exporter": "python",
   "pygments_lexer": "ipython3",
   "version": "3.12.2"
  }
 },
 "nbformat": 4,
 "nbformat_minor": 2
}
